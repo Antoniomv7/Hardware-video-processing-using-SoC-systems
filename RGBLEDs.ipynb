{
 "cells": [
  {
   "cell_type": "code",
   "execution_count": 1,
   "id": "709c0ad8",
   "metadata": {},
   "outputs": [
    {
     "data": {
      "application/javascript": "\ntry {\nrequire(['notebook/js/codecell'], function(codecell) {\n  codecell.CodeCell.options_default.highlight_modes[\n      'magic_text/x-csrc'] = {'reg':[/^%%microblaze/]};\n  Jupyter.notebook.events.one('kernel_ready.Kernel', function(){\n      Jupyter.notebook.get_cells().map(function(cell){\n          if (cell.cell_type == 'code'){ cell.auto_highlight(); } }) ;\n  });\n});\n} catch (e) {};\n"
     },
     "metadata": {},
     "output_type": "display_data"
    },
    {
     "data": {
      "application/javascript": "\ntry {\nrequire(['notebook/js/codecell'], function(codecell) {\n  codecell.CodeCell.options_default.highlight_modes[\n      'magic_text/x-csrc'] = {'reg':[/^%%pybind11/]};\n  Jupyter.notebook.events.one('kernel_ready.Kernel', function(){\n      Jupyter.notebook.get_cells().map(function(cell){\n          if (cell.cell_type == 'code'){ cell.auto_highlight(); } }) ;\n  });\n});\n} catch (e) {};\n"
     },
     "metadata": {},
     "output_type": "display_data"
    },
    {
     "name": "stdout",
     "output_type": "stream",
     "text": [
      "End of this demo ...\n"
     ]
    }
   ],
   "source": [
    "from time import sleep  # Importa la función 'sleep' de la biblioteca 'time' para pausas\n",
    "from pynq.overlays.base import BaseOverlay  # Importa la clase 'BaseOverlay' de la biblioteca PYNQ\n",
    "\n",
    "base = BaseOverlay(\"base.bit\")  # Carga la configuración de la placa PYNQ desde \"base.bit\" y crea una instancia 'base'\n",
    "\n",
    "Delay1 = 0.3  # Define una pausa de 0.3 segundos\n",
    "Delay2 = 0.1  # Define una pausa de 0.1 segundos\n",
    "color = 0  # Inicializa una variable de color a 0\n",
    "rgbled_position = [4, 5]  # Define las posiciones de los LEDs RGB en la placa\n",
    "\n",
    "for led in base.leds:  # Itera a través de todos los LEDs disponibles en la placa\n",
    "    led.on()  # Enciende cada LED\n",
    "\n",
    "while (base.buttons[3].read() == 0):  # Entra en un bucle que se ejecuta mientras el botón 3 no esté presionado\n",
    "\n",
    "    if (base.buttons[0].read() == 1):  # Si el botón 0 está presionado\n",
    "        color = (color + 1) % 8  # Incrementa el valor de 'color' y asegura que se mantenga en el rango de 0 a 7\n",
    "        for led in rgbled_position:  # Itera a través de las posiciones de los LEDs RGB\n",
    "            base.rgbleds[led].write(color)  # Escribe el valor de 'color' en los LEDs RGB\n",
    "            base.rgbleds[led].write(color)  # Escribe nuevamente el valor de 'color' para los LEDs RGB (posiciones 4 y 5)\n",
    "        sleep(Delay1)  # Pausa por 0.3 segundos\n",
    "\n",
    "    elif (base.buttons[1].read() == 1):  # Si el botón 1 está presionado\n",
    "        for led in base.leds:  # Itera a través de todos los LEDs\n",
    "            led.off()  # Apaga todos los LEDs\n",
    "        sleep(Delay2)  # Pausa por 0.1 segundos\n",
    "        for led in base.leds:  # Itera nuevamente a través de todos los LEDs\n",
    "            led.toggle()  # Cambia el estado de los LEDs (encendido/apagado)\n",
    "            sleep(Delay2)  # Pausa por 0.1 segundos entre cambios de estado\n",
    "\n",
    "    elif (base.buttons[2].read() == 1):  # Si el botón 2 está presionado\n",
    "        for led in reversed(base.leds):  # Itera a través de todos los LEDs en orden inverso\n",
    "            led.off()  # Apaga todos los LEDs en orden inverso\n",
    "        sleep(Delay2)  # Pausa por 0.1 segundos\n",
    "        for led in reversed(base.leds):  # Itera nuevamente a través de todos los LEDs en orden inverso\n",
    "            led.toggle()  # Cambia el estado de los LEDs (encendido/apagado)\n",
    "            sleep(Delay2)  # Pausa por 0.1 segundos entre cambios de estado\n",
    "\n",
    "print('End of this demo ...')  # Cuando se suelta el botón 3, imprime un mensaje de finalización\n",
    "\n",
    "for led in base.leds:  # Itera a través de todos los LEDs disponibles\n",
    "    led.off()  # Apaga todos los LEDs\n",
    "for led in rgbled_position:  # Itera a través de las posiciones de los LEDs RGB\n",
    "    base.rgbleds[led].off()  # Apaga los LEDs RGB en las posiciones especificadas (4 y 5)\n"
   ]
  },
  {
   "cell_type": "code",
   "execution_count": null,
   "id": "218f3acc",
   "metadata": {},
   "outputs": [],
   "source": []
  }
 ],
 "metadata": {
  "kernelspec": {
   "display_name": "Python 3 (ipykernel)",
   "language": "python",
   "name": "python3"
  },
  "language_info": {
   "codemirror_mode": {
    "name": "ipython",
    "version": 3
   },
   "file_extension": ".py",
   "mimetype": "text/x-python",
   "name": "python",
   "nbconvert_exporter": "python",
   "pygments_lexer": "ipython3",
   "version": "3.10.4"
  }
 },
 "nbformat": 4,
 "nbformat_minor": 5
}
