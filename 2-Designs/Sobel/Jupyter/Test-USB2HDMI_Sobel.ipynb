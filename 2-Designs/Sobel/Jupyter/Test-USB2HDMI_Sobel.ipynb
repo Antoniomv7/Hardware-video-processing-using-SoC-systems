{
 "cells": [
  {
   "cell_type": "markdown",
   "metadata": {},
   "source": [
    "**Configuración**"
   ]
  },
  {
   "cell_type": "code",
   "execution_count": 1,
   "metadata": {},
   "outputs": [
    {
     "data": {
      "application/javascript": "\ntry {\nrequire(['notebook/js/codecell'], function(codecell) {\n  codecell.CodeCell.options_default.highlight_modes[\n      'magic_text/x-csrc'] = {'reg':[/^%%microblaze/]};\n  Jupyter.notebook.events.one('kernel_ready.Kernel', function(){\n      Jupyter.notebook.get_cells().map(function(cell){\n          if (cell.cell_type == 'code'){ cell.auto_highlight(); } }) ;\n  });\n});\n} catch (e) {};\n"
     },
     "metadata": {},
     "output_type": "display_data"
    },
    {
     "data": {
      "application/javascript": "\ntry {\nrequire(['notebook/js/codecell'], function(codecell) {\n  codecell.CodeCell.options_default.highlight_modes[\n      'magic_text/x-csrc'] = {'reg':[/^%%pybind11/]};\n  Jupyter.notebook.events.one('kernel_ready.Kernel', function(){\n      Jupyter.notebook.get_cells().map(function(cell){\n          if (cell.cell_type == 'code'){ cell.auto_highlight(); } }) ;\n  });\n});\n} catch (e) {};\n"
     },
     "metadata": {},
     "output_type": "display_data"
    },
    {
     "name": "stderr",
     "output_type": "stream",
     "text": [
      "[ WARN:0] global ./modules/videoio/src/cap_gstreamer.cpp (616) isPipelinePlaying OpenCV | GStreamer warning: GStreamer: pipeline have not been created\n"
     ]
    },
    {
     "data": {
      "text/plain": [
       "True"
      ]
     },
     "execution_count": 1,
     "metadata": {},
     "output_type": "execute_result"
    }
   ],
   "source": [
    "import cv2, time, warnings\n",
    "import numpy as np\n",
    "from pynq.lib.video import *\n",
    "warnings.filterwarnings('ignore')\n",
    "import pynq\n",
    "from pynq.overlays.base import BaseOverlay\n",
    "from pynq import Overlay\n",
    "from pynq import allocate\n",
    "import psutil\n",
    "\n",
    "# Función para medir la CPU y la memoria utilizada\n",
    "def measure_resources():\n",
    "    cpu_percent = psutil.cpu_percent()\n",
    "    memory_percent = psutil.virtual_memory().percent\n",
    "    return cpu_percent, memory_percent\n",
    "\n",
    "overlay = BaseOverlay('base_w_sobel.bit')\n",
    "\n",
    "sobel = overlay.sobel_0\n",
    "dma = overlay.axi_dma_0\n",
    "\n",
    "def reset_all_dma():\n",
    "    def dma_reset(dma):\n",
    "        dma.sendchannel.stop()\n",
    "        dma.recvchannel.stop()\n",
    "        dma.sendchannel.start()\n",
    "        dma.recvchannel.start()\n",
    "    dma_reset(dma)\n",
    "reset_all_dma()\n",
    "\n",
    "resolution=(640,480)\n",
    "padd=int((max(resolution)-min(resolution))/2)\n",
    "recive_head=0+padd\n",
    "recive_tail=recive_head+min(resolution)\n",
    "buffer_shape=max(resolution)\n",
    "\n",
    "input_buffer = allocate(shape=(buffer_shape,buffer_shape), dtype=np.uint8)\n",
    "output_buffer = allocate(shape=(buffer_shape,buffer_shape), dtype=np.uint8)\n",
    "\n",
    "def run_sobel():\n",
    "    reset_all_dma()\n",
    "    dma.sendchannel.transfer(input_buffer)\n",
    "    dma.recvchannel.transfer(output_buffer)\n",
    "    sobel.write(0x10,buffer_shape)\n",
    "    sobel.write(0x18,buffer_shape)\n",
    "    sobel.write(0x00,0x81) #start\n",
    "    dma.sendchannel.wait()\n",
    "    dma.recvchannel.wait()\n",
    "\n",
    "frame_in_w,frame_in_h = resolution\n",
    "cap = cv2.VideoCapture(0)\n",
    "cap.set(cv2.CAP_PROP_FRAME_WIDTH, frame_in_w);\n",
    "cap.set(cv2.CAP_PROP_FRAME_HEIGHT, frame_in_h);\n",
    "cap.isOpened()"
   ]
  },
  {
   "cell_type": "markdown",
   "metadata": {},
   "source": [
    "**Software**"
   ]
  },
  {
   "cell_type": "code",
   "execution_count": 2,
   "metadata": {},
   "outputs": [
    {
     "name": "stdout",
     "output_type": "stream",
     "text": [
      "Break signal...\n",
      "Frames per second: 9.608195171580993\n",
      "Average CPU Usage: 57.338926174496635%\n",
      "Average Memory Usage: 64.55167785234923%\n",
      "Number of read errors: 0\n"
     ]
    }
   ],
   "source": [
    "'''\n",
    "Usando OpenCV (sin acelerador PL)\n",
    "'''\n",
    "frame_out_w,frame_out_h = resolution\n",
    "Mode = VideoMode(frame_out_w,frame_out_h,24)\n",
    "hdmi_out = overlay.video.hdmi_out\n",
    "hdmi_out.configure(Mode,PIXEL_BGR)\n",
    "hdmi_out.start()\n",
    "\n",
    "start=time.time()\n",
    "num_frames=0\n",
    "readError=0\n",
    "total_cpu_usage = 0\n",
    "total_memory_usage = 0\n",
    "while (overlay.buttons[3].read()==0):\n",
    "    fstime=time.time()\n",
    "    ret, frame_vga = cap.read()\n",
    "    if (ret):\n",
    "        outframe = hdmi_out.newframe()\n",
    "        laplacian_frame = cv2.Laplacian(frame_vga, cv2.CV_8U,ksize=3, dst=outframe)\n",
    "        cv2.putText(outframe,\"FPS:\"+str(round(1/(time.time()-fstime),4)),(10,20),0,0.8,(255,255,255),1)\n",
    "        hdmi_out.writeframe(outframe)\n",
    "        num_frames+=1\n",
    "        # Medir recursos después de procesar el frame\n",
    "        cpu_usage, memory_usage = measure_resources()\n",
    "        total_cpu_usage += cpu_usage\n",
    "        total_memory_usage += memory_usage\n",
    "    else:\n",
    "        readError += 1\n",
    "        print(\"Error al leer de la cámara.\")\n",
    "        \n",
    "end = time.time()\n",
    "print(\"Prueba finalizada\")\n",
    "print(\"Frames por segundo: \" + str((num_frames-readError) / (end - start)))\n",
    "print(\"Uso promedio de CPU: \" + str(total_cpu_usage / num_frames) + \"%\")\n",
    "print(\"Uso promedio de Memoria: \" + str(total_memory_usage / num_frames) + \"%\")\n",
    "print(\"Número de errores leídos: \" + str(readError))\n"
   ]
  },
  {
   "cell_type": "markdown",
   "metadata": {},
   "source": [
    "**Hardware**"
   ]
  },
  {
   "cell_type": "code",
   "execution_count": 3,
   "metadata": {},
   "outputs": [
    {
     "name": "stdout",
     "output_type": "stream",
     "text": [
      "Break signal...\n",
      "Frames per second: 12.68363272748899\n",
      "Average CPU Usage: 35.70733333333336%\n",
      "Average Memory Usage: 64.21999999999983%\n",
      "Number of read errors: 0\n"
     ]
    }
   ],
   "source": [
    "'''\n",
    "Con acelerador PL\n",
    "'''\n",
    "frame_out_w,frame_out_h = resolution\n",
    "Mode = VideoMode(frame_out_w,frame_out_h,8)\n",
    "hdmi_out = overlay.video.hdmi_out\n",
    "hdmi_out.configure(Mode,PIXEL_GRAY)\n",
    "hdmi_out.start()\n",
    "\n",
    "start=time.time()\n",
    "num_frames=0\n",
    "readError=0\n",
    "total_cpu_usage = 0\n",
    "total_memory_usage = 0\n",
    "while (overlay.buttons[3].read()==0):\n",
    "    fstime=time.time()\n",
    "    frame, image=cap.read()\n",
    "    if (frame):\n",
    "        #image=cv2.GaussianBlur(image,(3,3),0)\n",
    "        image=cv2.cvtColor(image,cv2.COLOR_BGR2GRAY)\n",
    "        image= cv2.copyMakeBorder(image,padd,padd,0,0,cv2.BORDER_CONSTANT,value=[0,0,0])\n",
    "        input_buffer[:,:] = image\n",
    "        run_sobel()\n",
    "        outframe=hdmi_out.newframe()\n",
    "        outframe=output_buffer[recive_head:recive_tail,:]\n",
    "        cv2.putText(outframe,\"FPS:\"+str(round(1/(time.time()-fstime),4)),(1,20),0,0.8,(255,255,255),1)\n",
    "        hdmi_out.writeframe(outframe)\n",
    "        num_frames+=1\n",
    "        # Medir recursos después de procesar el frame\n",
    "        cpu_usage, memory_usage = measure_resources()\n",
    "        total_cpu_usage += cpu_usage\n",
    "        total_memory_usage += memory_usage\n",
    "    else:\n",
    "        readError+=1\n",
    "        print(\"Error al leer de la cámara.\")\n",
    "        \n",
    "end=time.time()\n",
    "print(\"Prueba finalizada\")\n",
    "print(\"Frames por segundo: \" + str((num_frames-readError) / (end - start)))\n",
    "print(\"Uso promedio de CPU: \" + str(total_cpu_usage / num_frames) + \"%\")\n",
    "print(\"Uso promedio de Memoria: \" + str(total_memory_usage / num_frames) + \"%\")\n",
    "print(\"Número de errores leídos: \" + str(readError))"
   ]
  },
  {
   "cell_type": "code",
   "execution_count": null,
   "metadata": {},
   "outputs": [],
   "source": []
  }
 ],
 "metadata": {
  "kernelspec": {
   "display_name": "Python 3 (ipykernel)",
   "language": "python",
   "name": "python3"
  },
  "language_info": {
   "codemirror_mode": {
    "name": "ipython",
    "version": 3
   },
   "file_extension": ".py",
   "mimetype": "text/x-python",
   "name": "python",
   "nbconvert_exporter": "python",
   "pygments_lexer": "ipython3",
   "version": "3.10.4"
  }
 },
 "nbformat": 4,
 "nbformat_minor": 2
}
