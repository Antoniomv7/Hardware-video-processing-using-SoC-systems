{
 "cells": [
  {
   "cell_type": "code",
   "execution_count": 1,
   "id": "71242153",
   "metadata": {},
   "outputs": [
    {
     "data": {
      "application/javascript": "\ntry {\nrequire(['notebook/js/codecell'], function(codecell) {\n  codecell.CodeCell.options_default.highlight_modes[\n      'magic_text/x-csrc'] = {'reg':[/^%%microblaze/]};\n  Jupyter.notebook.events.one('kernel_ready.Kernel', function(){\n      Jupyter.notebook.get_cells().map(function(cell){\n          if (cell.cell_type == 'code'){ cell.auto_highlight(); } }) ;\n  });\n});\n} catch (e) {};\n"
     },
     "metadata": {},
     "output_type": "display_data"
    },
    {
     "data": {
      "application/javascript": "\ntry {\nrequire(['notebook/js/codecell'], function(codecell) {\n  codecell.CodeCell.options_default.highlight_modes[\n      'magic_text/x-csrc'] = {'reg':[/^%%pybind11/]};\n  Jupyter.notebook.events.one('kernel_ready.Kernel', function(){\n      Jupyter.notebook.get_cells().map(function(cell){\n          if (cell.cell_type == 'code'){ cell.auto_highlight(); } }) ;\n  });\n});\n} catch (e) {};\n"
     },
     "metadata": {},
     "output_type": "display_data"
    }
   ],
   "source": [
    "from time import sleep\n",
    "from pynq.overlays.base import BaseOverlay\n",
    "base = BaseOverlay(\"base.bit\")"
   ]
  },
  {
   "cell_type": "code",
   "execution_count": 2,
   "id": "dd4e6bd6",
   "metadata": {},
   "outputs": [],
   "source": [
    "led0 = base.leds[0]    # Se asigna la variable al LED LD0\n",
    "led1 = base.leds[1]    # Se asigna la variable al LED LD1\n",
    "led2 = base.leds[2]    # Se asigna la variable al LED LD2\n",
    "led3 = base.leds[3]    # Se asigna la variable al LED LD3"
   ]
  },
  {
   "cell_type": "code",
   "execution_count": 3,
   "id": "f80a0391",
   "metadata": {},
   "outputs": [],
   "source": [
    "sw0 = base.switches[0]    # Se asigna la variable al Switch SW0\n",
    "sw1 = base.switches[1]    # Se asigna la variable al Switch SW1"
   ]
  },
  {
   "cell_type": "code",
   "execution_count": null,
   "id": "c71e0d14",
   "metadata": {},
   "outputs": [],
   "source": [
    "while(True):    # El código se ejecuta mientras while (True), es decir, siempre\n",
    "    if(sw0.read() == True):    # Lee el SW0 y comprueba si está activo\n",
    "        led0.on()              # Si SW0 está ON --> Encender LED0\n",
    "        led1.on()              # Si SW0 está ON --> Encender LED1\n",
    "    else:\n",
    "        led0.off()             # Sino, apagar LED0\n",
    "        led1.off()             # Sino, apagar LED1\n",
    "        \n",
    "    if(sw1.read() == True):    # Lee el SW1 y comprueba si está activo\n",
    "        led2.on()              # Si SW1 está ON --> Encender LED2\n",
    "        led3.on()              # Si SW1 está ON --> Encender LED3\n",
    "    else:\n",
    "        led2.off()             # Sino, apgar LED2\n",
    "        led3.off()             # Sino, apagar LED3\n",
    "            "
   ]
  }
 ],
 "metadata": {
  "kernelspec": {
   "display_name": "Python 3 (ipykernel)",
   "language": "python",
   "name": "python3"
  },
  "language_info": {
   "codemirror_mode": {
    "name": "ipython",
    "version": 3
   },
   "file_extension": ".py",
   "mimetype": "text/x-python",
   "name": "python",
   "nbconvert_exporter": "python",
   "pygments_lexer": "ipython3",
   "version": "3.10.4"
  }
 },
 "nbformat": 4,
 "nbformat_minor": 5
}
