{
 "cells": [
  {
   "cell_type": "code",
   "execution_count": 1,
   "id": "26f328fd",
   "metadata": {},
   "outputs": [
    {
     "data": {
      "application/javascript": [
       "\n",
       "try {\n",
       "require(['notebook/js/codecell'], function(codecell) {\n",
       "  codecell.CodeCell.options_default.highlight_modes[\n",
       "      'magic_text/x-csrc'] = {'reg':[/^%%microblaze/]};\n",
       "  Jupyter.notebook.events.one('kernel_ready.Kernel', function(){\n",
       "      Jupyter.notebook.get_cells().map(function(cell){\n",
       "          if (cell.cell_type == 'code'){ cell.auto_highlight(); } }) ;\n",
       "  });\n",
       "});\n",
       "} catch (e) {};\n"
      ]
     },
     "metadata": {},
     "output_type": "display_data"
    },
    {
     "data": {
      "application/javascript": [
       "\n",
       "try {\n",
       "require(['notebook/js/codecell'], function(codecell) {\n",
       "  codecell.CodeCell.options_default.highlight_modes[\n",
       "      'magic_text/x-csrc'] = {'reg':[/^%%pybind11/]};\n",
       "  Jupyter.notebook.events.one('kernel_ready.Kernel', function(){\n",
       "      Jupyter.notebook.get_cells().map(function(cell){\n",
       "          if (cell.cell_type == 'code'){ cell.auto_highlight(); } }) ;\n",
       "  });\n",
       "});\n",
       "} catch (e) {};\n"
      ]
     },
     "metadata": {},
     "output_type": "display_data"
    }
   ],
   "source": [
    "from pynq.overlays.base import BaseOverlay\n",
    "from pynq.lib.video import *\n",
    "from pynq import Overlay\n",
    "import cv2\n",
    "import os\n",
    "import time\n",
    "\n",
    "# Cargar el overlay\n",
    "base = BaseOverlay(\"base.bit\")"
   ]
  },
  {
   "cell_type": "code",
   "execution_count": 2,
   "id": "6217715d",
   "metadata": {},
   "outputs": [
    {
     "data": {
      "text/plain": [
       "<contextlib._GeneratorContextManager at 0xad303d30>"
      ]
     },
     "execution_count": 2,
     "metadata": {},
     "output_type": "execute_result"
    }
   ],
   "source": [
    "# Leer la imagen desde el archivo\n",
    "image_path = 'sahara.jpg'\n",
    "image = cv2.imread(image_path)\n",
    "\n",
    "# Configurar la salida HDMI\n",
    "Mode = VideoMode(1920, 1080, 24)  # Modo del monitor según la imagen\n",
    "hdmi_out = base.video.hdmi_out\n",
    "hdmi_out.configure(Mode, PIXEL_BGR)\n",
    "hdmi_out.start()"
   ]
  },
  {
   "cell_type": "code",
   "execution_count": 3,
   "id": "4a8a05d3",
   "metadata": {},
   "outputs": [],
   "source": [
    "# Redimensionar la imagen para que coincida con la resolución de salida\n",
    "resized_image = cv2.resize(image, (1920, 1080))\n",
    "\n",
    "# Establecer nivel de registro de OpenCV en silencioso\n",
    "os.environ[\"OPENCV_LOG_LEVEL\"] = \"SILENT\"\n",
    "\n",
    "# Mostrar la imagen redimensionada a través de HDMI Out\n",
    "outframe = hdmi_out.newframe()\n",
    "outframe[0:1080, 0:1920, :] = resized_image\n",
    "hdmi_out.writeframe(outframe)"
   ]
  },
  {
   "cell_type": "code",
   "execution_count": 4,
   "id": "e1fa2ed3",
   "metadata": {},
   "outputs": [],
   "source": [
    "# Liberar recursos\n",
    "hdmi_out.stop()\n",
    "hdmi_out.close()"
   ]
  },
  {
   "cell_type": "code",
   "execution_count": null,
   "id": "cc12196a",
   "metadata": {},
   "outputs": [],
   "source": []
  }
 ],
 "metadata": {
  "kernelspec": {
   "display_name": "Python 3 (ipykernel)",
   "language": "python",
   "name": "python3"
  },
  "language_info": {
   "codemirror_mode": {
    "name": "ipython",
    "version": 3
   },
   "file_extension": ".py",
   "mimetype": "text/x-python",
   "name": "python",
   "nbconvert_exporter": "python",
   "pygments_lexer": "ipython3",
   "version": "3.10.4"
  }
 },
 "nbformat": 4,
 "nbformat_minor": 5
}
