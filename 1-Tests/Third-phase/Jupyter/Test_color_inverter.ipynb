{
 "cells": [
  {
   "cell_type": "code",
   "execution_count": null,
   "id": "be10d9dc",
   "metadata": {},
   "outputs": [
    {
     "data": {
      "application/javascript": [
       "\n",
       "try {\n",
       "require(['notebook/js/codecell'], function(codecell) {\n",
       "  codecell.CodeCell.options_default.highlight_modes[\n",
       "      'magic_text/x-csrc'] = {'reg':[/^%%microblaze/]};\n",
       "  Jupyter.notebook.events.one('kernel_ready.Kernel', function(){\n",
       "      Jupyter.notebook.get_cells().map(function(cell){\n",
       "          if (cell.cell_type == 'code'){ cell.auto_highlight(); } }) ;\n",
       "  });\n",
       "});\n",
       "} catch (e) {};\n"
      ]
     },
     "metadata": {},
     "output_type": "display_data"
    },
    {
     "data": {
      "application/javascript": [
       "\n",
       "try {\n",
       "require(['notebook/js/codecell'], function(codecell) {\n",
       "  codecell.CodeCell.options_default.highlight_modes[\n",
       "      'magic_text/x-csrc'] = {'reg':[/^%%pybind11/]};\n",
       "  Jupyter.notebook.events.one('kernel_ready.Kernel', function(){\n",
       "      Jupyter.notebook.get_cells().map(function(cell){\n",
       "          if (cell.cell_type == 'code'){ cell.auto_highlight(); } }) ;\n",
       "  });\n",
       "});\n",
       "} catch (e) {};\n"
      ]
     },
     "metadata": {},
     "output_type": "display_data"
    },
    {
     "name": "stderr",
     "output_type": "stream",
     "text": [
      "[ WARN:0] global ./modules/videoio/src/cap_gstreamer.cpp (616) isPipelinePlaying OpenCV | GStreamer warning: GStreamer: pipeline have not been created\n",
      "[ WARN:0] global ./modules/videoio/src/cap_gstreamer.cpp (616) isPipelinePlaying OpenCV | GStreamer warning: GStreamer: pipeline have not been created\n"
     ]
    }
   ],
   "source": [
    "from pynq.overlays.base import BaseOverlay\n",
    "from pynq.lib.video import *\n",
    "from pynq import Overlay\n",
    "import cv2\n",
    "import os\n",
    "import time\n",
    "\n",
    "# Cargar el overlay\n",
    "base = BaseOverlay(\"base_wrapper.bit\")\n",
    "\n",
    "# Configurar la salida HDMI\n",
    "Mode = VideoMode(640, 480, 24)  # Modo del monitor: 640x480 @ 60Hz\n",
    "hdmi_out = base.video.hdmi_out\n",
    "hdmi_out.configure(Mode, PIXEL_BGR)\n",
    "hdmi_out.start()\n",
    "\n",
    "# Configuración de la cámara (entrada)\n",
    "frame_in_w, frame_in_h = 640, 480\n",
    "\n",
    "# Establecer nivel de registro de OpenCV en silencioso\n",
    "os.environ[\"OPENCV_LOG_LEVEL\"] = \"SILENT\"\n",
    "\n",
    "# Liberar cualquier recurso de cámara existente\n",
    "cv2.VideoCapture(0).release()\n",
    "\n",
    "# Inicialización de variables para el cálculo de frames por segundo\n",
    "start_time = time.time()\n",
    "num_frames = 0\n",
    "read_errors = 0\n",
    "\n",
    "try:\n",
    "    # Inicializar la cámara\n",
    "    videoIn = cv2.VideoCapture(0)\n",
    "    videoIn.set(cv2.CAP_PROP_FRAME_WIDTH, frame_in_w)\n",
    "    videoIn.set(cv2.CAP_PROP_FRAME_HEIGHT, frame_in_h)\n",
    "\n",
    "    while True:\n",
    "        # Capturar video frame por frame\n",
    "        ret, frame_vga = videoIn.read()\n",
    "\n",
    "        if ret:\n",
    "            # Incrementar el contador de frames\n",
    "            num_frames += 1\n",
    "\n",
    "            # Aquí se aplica el procesamiento de imagen si es necesario\n",
    "            processed_frame = frame_vga\n",
    "\n",
    "            # Mostrar el frame procesado a través de HDMI Out\n",
    "            outframe = hdmi_out.newframe()\n",
    "            outframe[0:frame_in_h, 0:frame_in_w, :] = processed_frame\n",
    "            hdmi_out.writeframe(outframe)\n",
    "        else:\n",
    "            # Incrementar el contador de errores de lectura\n",
    "            read_errors += 1\n",
    "            print(\"Error al leer de la cámara.\")\n",
    "            # break\n",
    "\n",
    "except Exception as e:\n",
    "    print(f\"Ha ocurrido un error: {e}\")\n",
    "\n",
    "finally:\n",
    "    # Calcular el tiempo transcurrido\n",
    "    end_time = time.time()\n",
    "    elapsed_time = end_time - start_time\n",
    "\n",
    "    # Calcular los frames por segundo\n",
    "    fps = (num_frames - read_errors) / elapsed_time\n",
    "\n",
    "    # Mostrar resultados\n",
    "    print(\"Break signal...\")\n",
    "    print(\"Frames per second: \" + str(fps))\n",
    "    print(\"Number of read errors: \" + str(read_errors))\n",
    "\n",
    "    # Liberar recursos\n",
    "    videoIn.release()\n",
    "    hdmi_out.stop()\n",
    "    hdmi_out.close()\n"
   ]
  },
  {
   "cell_type": "code",
   "execution_count": null,
   "id": "b55b98ba",
   "metadata": {},
   "outputs": [],
   "source": []
  }
 ],
 "metadata": {
  "kernelspec": {
   "display_name": "Python 3 (ipykernel)",
   "language": "python",
   "name": "python3"
  },
  "language_info": {
   "codemirror_mode": {
    "name": "ipython",
    "version": 3
   },
   "file_extension": ".py",
   "mimetype": "text/x-python",
   "name": "python",
   "nbconvert_exporter": "python",
   "pygments_lexer": "ipython3",
   "version": "3.10.4"
  }
 },
 "nbformat": 4,
 "nbformat_minor": 5
}
